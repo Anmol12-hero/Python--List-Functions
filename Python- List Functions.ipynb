{
 "cells": [
  {
   "cell_type": "code",
   "execution_count": 1,
   "id": "c825addd-1b2a-4279-a1f9-c354548410e2",
   "metadata": {},
   "outputs": [],
   "source": [
    "# Q1. What is the syntax for adding an element to a list in Python?"
   ]
  },
  {
   "cell_type": "code",
   "execution_count": 2,
   "id": "37a8b8b5-2197-4f58-8e7e-f0e9cdb3706b",
   "metadata": {},
   "outputs": [],
   "source": [
    "# I can add an element to a list using the append() method. The syntax for adding an element to a list in Python is as follows:"
   ]
  },
  {
   "cell_type": "code",
   "execution_count": 7,
   "id": "4e039d43-92d5-4cc6-a82d-8e0172de1e6f",
   "metadata": {},
   "outputs": [
    {
     "name": "stdout",
     "output_type": "stream",
     "text": [
      "[1, 2, 3, 4]\n"
     ]
    }
   ],
   "source": [
    "# Define a list\n",
    "my_list = [1, 2, 3]\n",
    "\n",
    "# Append a new element to the end of the list\n",
    "my_list.append(4)\n",
    "\n",
    "# Print the updated list\n",
    "print(my_list)"
   ]
  },
  {
   "cell_type": "code",
   "execution_count": 8,
   "id": "5734b6ca-809f-4c3a-b6e3-df431f612acf",
   "metadata": {},
   "outputs": [],
   "source": [
    "# Q2. What is the difference between remove() and pop() functions in Python?"
   ]
  },
  {
   "cell_type": "code",
   "execution_count": 9,
   "id": "470dd7bf-d009-42e0-91e1-6fbb2a3f56c7",
   "metadata": {},
   "outputs": [],
   "source": [
    "# remove() method: This method removes the first occurrence of a specified element from the list. It takes one argument, which is the value of the element you want to remove. If the element is not present in the list, remove() will raise a ValueError. Here's the syntax for the remove() method: "
   ]
  },
  {
   "cell_type": "code",
   "execution_count": 29,
   "id": "76d33431-f9ea-4e30-9a16-34b1afad1696",
   "metadata": {},
   "outputs": [],
   "source": [
    "# pop() method: This method removes and returns the last element from the list, or an element at a specified index. If you don't specify an index, pop() will remove and return the last element. If you specify an index, pop() will remove and return the element at that index. If the index is out of range, pop() will raise an IndexError. Here's the syntax for the pop() method:"
   ]
  },
  {
   "cell_type": "code",
   "execution_count": 30,
   "id": "38c62b22-12b6-4be9-ab33-521738c85731",
   "metadata": {},
   "outputs": [],
   "source": [
    "# here example"
   ]
  },
  {
   "cell_type": "code",
   "execution_count": 32,
   "id": "fab502f6-7330-42bc-a2bf-192dc9ecf3de",
   "metadata": {},
   "outputs": [
    {
     "name": "stdout",
     "output_type": "stream",
     "text": [
      "['apple', 'orange', 'banana']\n",
      "banana\n",
      "['apple', 'orange']\n",
      "apple\n",
      "['orange']\n"
     ]
    }
   ],
   "source": [
    "# Define a list\n",
    "my_list = ['apple', 'banana', 'orange', 'banana']\n",
    "\n",
    "# Remove the first occurrence of 'banana'\n",
    "my_list.remove('banana')\n",
    "print(my_list)  # Output: ['apple', 'orange', 'banana']\n",
    "\n",
    "# Remove and return the last element\n",
    "last_element = my_list.pop()\n",
    "print(last_element)  # Output: 'banana'\n",
    "print(my_list)  # Output: ['apple', 'orange']\n",
    "\n",
    "# Remove and return the element at index 0\n",
    "first_element = my_list.pop(0)\n",
    "print(first_element)  # Output: 'apple'\n",
    "print(my_list)  # Output: ['orange', 'banana'"
   ]
  },
  {
   "cell_type": "code",
   "execution_count": 33,
   "id": "cea0b139-fa24-406a-923e-5a3d9b95c278",
   "metadata": {},
   "outputs": [],
   "source": [
    "# Q3. Write a Python code to sort a list in descending order."
   ]
  },
  {
   "cell_type": "code",
   "execution_count": 35,
   "id": "57152848-7e0f-40f7-86bb-198d8b712d17",
   "metadata": {},
   "outputs": [],
   "source": [
    "# To sort a list in descending order, you can use the sort() method with the reverse=True parameter. Here's an example code that demonstrates how to sort a list in descending order:"
   ]
  },
  {
   "cell_type": "code",
   "execution_count": 37,
   "id": "c6fb1ad1-cd73-4e4f-aabf-1fb646349cec",
   "metadata": {},
   "outputs": [
    {
     "name": "stdout",
     "output_type": "stream",
     "text": [
      "[8, 8, 6, 4, 3, 1, 0]\n"
     ]
    }
   ],
   "source": [
    "# Define a list\n",
    "my_list = [3, 8, 1, 6, 0, 8, 4]\n",
    "\n",
    "# Sort the list in descending order\n",
    "my_list.sort(reverse=True)\n",
    "\n",
    "# Print the sorted list\n",
    "print(my_list) # Output: [8, 8, 6, 4, 3, 1, 0]"
   ]
  },
  {
   "cell_type": "code",
   "execution_count": 38,
   "id": "7b1b189f-d41f-422e-bbda-8cbbfecca293",
   "metadata": {},
   "outputs": [],
   "source": [
    "# Q4. Write a Python code to count the number of occurrences of an element in a list."
   ]
  },
  {
   "cell_type": "code",
   "execution_count": 39,
   "id": "35500bec-5fde-40c3-83cb-6c7a1d06dc51",
   "metadata": {},
   "outputs": [],
   "source": [
    "# To count the number of occurrences of an element in a list, you can use the count() method. Here's an example code that demonstrates how to count the number of occurrences of an element in a list:"
   ]
  },
  {
   "cell_type": "code",
   "execution_count": null,
   "id": "acacfb66-645c-4cd1-8074-060bc82137d5",
   "metadata": {},
   "outputs": [],
   "source": [
    "# Define a list\n",
    "my_list = ['apple', 'banana', 'orange', 'banana', 'kiwi', 'banana']\n",
    "\n",
    "# Count the number of occurrences of 'banana'\n",
    "count = my_list.count('banana')\n",
    "\n",
    "# Print the count\n",
    "print(count) # Output: 3"
   ]
  }
 ],
 "metadata": {
  "kernelspec": {
   "display_name": "Python 3 (ipykernel)",
   "language": "python",
   "name": "python3"
  },
  "language_info": {
   "codemirror_mode": {
    "name": "ipython",
    "version": 3
   },
   "file_extension": ".py",
   "mimetype": "text/x-python",
   "name": "python",
   "nbconvert_exporter": "python",
   "pygments_lexer": "ipython3",
   "version": "3.10.8"
  }
 },
 "nbformat": 4,
 "nbformat_minor": 5
}
